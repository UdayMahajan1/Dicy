{
  "nbformat": 4,
  "nbformat_minor": 0,
  "metadata": {
    "colab": {
      "provenance": [],
      "authorship_tag": "ABX9TyM5phfKN47G5gzlfduK6ozw",
      "include_colab_link": true
    },
    "kernelspec": {
      "name": "python3",
      "display_name": "Python 3"
    },
    "language_info": {
      "name": "python"
    }
  },
  "cells": [
    {
      "cell_type": "markdown",
      "metadata": {
        "id": "view-in-github",
        "colab_type": "text"
      },
      "source": [
        "<a href=\"https://colab.research.google.com/github/UdayMahajan1/Dicy/blob/master/verify.ipynb\" target=\"_parent\"><img src=\"https://colab.research.google.com/assets/colab-badge.svg\" alt=\"Open In Colab\"/></a>"
      ]
    },
    {
      "cell_type": "code",
      "execution_count": null,
      "metadata": {
        "id": "vxqK6xb_dz04",
        "colab": {
          "base_uri": "https://localhost:8080/"
        },
        "outputId": "ce1fe639-4426-401a-841e-f72d71a2edd0"
      },
      "outputs": [
        {
          "output_type": "stream",
          "name": "stdout",
          "text": [
            "0.9\n"
          ]
        }
      ],
      "source": [
        "import numpy as np \n",
        "\n",
        "arr = [0]\n",
        "\n",
        "for i in range (0, 252) :\n",
        "  arr.append(1) ;\n",
        "\n",
        "for i in range (0, 1750-252):\n",
        "  arr.append(0) ;\n",
        "\n",
        "countp = 0\n",
        "\n",
        "for i in range(0, 9) :\n",
        "  arr2 = np.random.choice(arr, size = 160)\n",
        "  count = 0\n",
        "  for e in arr2 : \n",
        "    if e == 1 : \n",
        "      count = count + 1 ;\n",
        "  \n",
        "  if count >= 16 :\n",
        "    countp = countp + 1  \n",
        "  \n",
        "print(countp/10) \n"
      ]
    }
  ]
}